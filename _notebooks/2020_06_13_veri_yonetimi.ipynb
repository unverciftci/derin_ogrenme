{
  "nbformat": 4,
  "nbformat_minor": 0,
  "metadata": {
    "colab": {
      "name": "2020-06-13-veri-yonetimi.ipynb",
      "provenance": [],
      "private_outputs": true,
      "authorship_tag": "ABX9TyMyBtEs5kPXMP6kvH/SFkr4"
    },
    "kernelspec": {
      "name": "python3",
      "display_name": "Python 3"
    }
  },
  "cells": [
    {
      "cell_type": "markdown",
      "metadata": {
        "id": "DQ7ZHUTXyn7_",
        "colab_type": "text"
      },
      "source": [
        "# Veri Yönetimi(✗)\n",
        "\n",
        "- toc: true \n",
        "- badges: true\n",
        "- comments: true\n",
        "- categories: [jupyter]\n",
        "- image: images/chart-preview.png"
      ]
    },
    {
      "cell_type": "markdown",
      "metadata": {
        "id": "qy4lKrBEdnjB",
        "colab_type": "text"
      },
      "source": [
        "## **Veri Yönetimi**"
      ]
    },
    {
      "cell_type": "markdown",
      "metadata": {
        "id": "2ztXSTybdrpR",
        "colab_type": "text"
      },
      "source": [
        "  Birşey yapılması için veri depolamak ve veri işlemeye bir yol bulmamız gerekir. Genel olarak veri ile yapmamız gereken iki önemli şey vardır: (i) veriyi elde etmek, (ii) bilgisayara girdikten sonra verileri işlemek. Veri depolamanın bir yolu olmadan elde etmenin bir anlamı yok. Bu yüzden önce sentetik verileri ele alarak başlayalım. Başlamak için n-boyutlu dizi ortaya koyuyoruz. Numpy ve MXNet'te böyle bir diziye ndarray PyTorch ve TensorFlow da Tensor denir. Bu kitap boyunca ndarray ismini kullanıyoruz. ndarray bir sınıftır ve her örneğe bir ndarray diyoruz.\n",
        "\n",
        "> MXNet\n",
        "\n",
        "  Python'da en çok kullanılan bilimsel hesaplama paketi olan Numpy çalıştıysanız, bu bölümü tanıdık bulacaksınız. MXNet de ndarray bir sınıftır ve her hangi bir tensor(n boyurlu dizi) bir ndarray örneğidir. \n",
        "  MXNet'in tensorleri, Numpy'ın tensorlerine(n boyutlu dizilerine) birkaç önemli özellik ile birlikte bir genişlemesidir. İlk olarak MXNet'in tensorleri CPU, GPU ve dağıtılmış bulut mimarileri üzerinde asenkron hesaplamaları desteklerken, Numpy sadece CPU hesaplamasını destekler. İkinci olarak MXNet'in tensorleri otomatik türevi destekler. Bu özellikler derin öğrenme için MXNet'in tensorlerini uygun hale getirir. Bu kitap boyunca tensorler dediğimizde aksini ifade etmedikçe MXNet'in ndarray örneklerinden söz ediyoruz.\n",
        "  \n"
      ]
    },
    {
      "cell_type": "markdown",
      "metadata": {
        "id": "KXqR6FlDduer",
        "colab_type": "text"
      },
      "source": [
        "### **Başlangıç**"
      ]
    },
    {
      "cell_type": "markdown",
      "metadata": {
        "id": "f8m50IIcd0lI",
        "colab_type": "text"
      },
      "source": [
        "  Bu bölümde, bu kitabın başından sonuna kadar ilerledikçe inşa edeceğiniz temel matematik ve sayısal hesaplama araçları ile sizi hazırlamak ve çalıştırmayı amaçlıyoruz. Matematik kavramlarının veya kütüphane fonksiyonlarının bazılarını anlamaya çalışıyorsanız eğer endişelenmeyin. Aşağıdaki bölümler pratik örnekler ile birlikte bu materyali yeniden ele alacaktır. Diğer yandan eğer biraz geçmişiniz varsa ve matematiksel içeriğin daha derinine inmek istiyorsanız, bu bölümü geçebilirsiniz.\n",
        "\n",
        "\n",
        "  Başlamak için MXNet'den np(numpy) ve npx(numpy_extension) modüllerini yükleyelim. Burada npx modülü Numpy gibi bir ortamda derin öğrenmeyi güçlendirmek için geliştirilmiş bir genişleme kümesi içerirken, np modülü Numpy tarafından desteklenen fonksiyonları içermektedir. Tensorleri kullanırken her zaman set_np() fonksiyonunu çağırırız. Bu MXNet'in diğer bileşenleri ile tensor işleme uyumu içindir."
      ]
    },
    {
      "cell_type": "code",
      "metadata": {
        "id": "fmg2DM_2ha5R",
        "colab_type": "code",
        "colab": {}
      },
      "source": [
        "pip install mxnet==1.6.0 #Öncelikle MXNet'i indiriyoruz."
      ],
      "execution_count": null,
      "outputs": []
    },
    {
      "cell_type": "code",
      "metadata": {
        "id": "MEEdfE3gd65L",
        "colab_type": "code",
        "colab": {}
      },
      "source": [
        "from mxnet import np, npx\n",
        "npx.set_np()"
      ],
      "execution_count": null,
      "outputs": []
    },
    {
      "cell_type": "markdown",
      "metadata": {
        "id": "-Eptwt64d__S",
        "colab_type": "text"
      },
      "source": [
        "  Bir tensor sayısal değerlere sahip bir dizi(muhtemelen çok boyutlu) temsil eder. Matematikte bir eksenli tensor bir vektöre karşılık gelir. İki eksenli bir tensor ise matrise karşılık gelir. İkiden fazla eksenli diziler matematiksel olarak bir isme sahip değildir. Biz bunlara tensor diyoruz.\n",
        "\n",
        "  Varsayılan değeri float olarak oluşturmasına rağmen, 0 ile başlayan ilk 12 tam sayıyı içeren bir satır vektörü olan x'i oluşturmak için 'arrange' fonksiyonunu kullanabiliriz. Bir tensordeki değerlerin hepsi tensorün bir elemanı olarak adlandırılır. Örneğin, x tensoründe 12 eleman vardır. Aksi belirtilmediği sürece yeni bir tensor ana hafızada depolanacak ve CPU tabanlı hesaplama için tasarlanacak."
      ]
    },
    {
      "cell_type": "code",
      "metadata": {
        "id": "ANPr0hs4eDks",
        "colab_type": "code",
        "colab": {}
      },
      "source": [
        "x = np.arange(12)\n",
        "x"
      ],
      "execution_count": null,
      "outputs": []
    },
    {
      "cell_type": "markdown",
      "metadata": {
        "id": "SX3zdLR2eEMV",
        "colab_type": "text"
      },
      "source": [
        "Bir tensorün satır ve sutün sayısını öğrenmek için shape özelliğini kullanabiliriz."
      ]
    },
    {
      "cell_type": "code",
      "metadata": {
        "id": "eBsJDBGReMCi",
        "colab_type": "code",
        "colab": {}
      },
      "source": [
        "x.shape"
      ],
      "execution_count": null,
      "outputs": []
    },
    {
      "cell_type": "markdown",
      "metadata": {
        "id": "RUV25dlecUJW",
        "colab_type": "text"
      },
      "source": [
        "  Sadece bir tensorün elemenlarının toplam sayısını bilmek istersek, size özelliğini kullanabiliriz. Burada bir vektörle uğraştığımız için shape fonksiyonunun değeri ile size fonksiyonunun değeri aynı sayıyı döndürür."
      ]
    },
    {
      "cell_type": "code",
      "metadata": {
        "id": "fbaPCVlOePDw",
        "colab_type": "code",
        "colab": {}
      },
      "source": [
        "x.size"
      ],
      "execution_count": null,
      "outputs": []
    },
    {
      "cell_type": "markdown",
      "metadata": {
        "id": "MBVGdf33c5EZ",
        "colab_type": "text"
      },
      "source": [
        "  Bir tensorün eleman sayısını veya değerini değiştirmeden shape'ini değiştirmek için reshape fonksiyonunu kullanabiliriz. Örneğin, (12,) shape sahip x vektörünü, (3,4) shape li bir matrise dönüştürebiliriz. Bu yeni tensör tamamen aynı değerleri içerir. Ancak 3 satır ve 4 sütun olarak düzenlenmiş bir matris olarak görünürler. Yani tensörün shape i değişmesine rağmen içindeki değerler değişmez. Boyutun yeniden şekillendirilerek değiştirilmediğine dikkat edin."
      ]
    },
    {
      "cell_type": "code",
      "metadata": {
        "id": "s63FfqEPeUHx",
        "colab_type": "code",
        "colab": {}
      },
      "source": [
        "x.reshape(3,4)"
      ],
      "execution_count": null,
      "outputs": []
    },
    {
      "cell_type": "markdown",
      "metadata": {
        "id": "nvSeY9GMjPFc",
        "colab_type": "text"
      },
      "source": [
        "  Her boyutu manuel olarak belirterek yeniden şekillendirmeye gerek yoktur. Hedef şeklimiz (yükseklik,genişlik) olan bir matris ise genişliği bildikten sonra yükseklik kapalı bir şekilde verilir. Neden bölmeyi kendimiz yapmak zorundayız? Yukarıdaki örnekte 3 satırlık bir martis almak için hem 3 satır hemde 4 sütunlu olması gerektiğini belirttik. Neyse ki tensörler satır sayısı verildiğinde sütun sayısını,sütun sayısı verildiğinde de satır sayısını hesaplayabilir. Bunu, tensörün otomatik olarak çıkarım yapmasını istediğimiz boyutu -1 ile değiştirerek sağlıyoruz. Yani, x.reshape(3,4) olarak şekillendirmek yerine x.reshape(3,-1) veya x.reshape(-1,4) olarak yeniden şekillendirebiliriz. Hepsinde de sonuç aynıdır.\n",
        "  empty metodu bir yığın hafızayı tutar ve bize girdilerinin herhangi birinin değerini değiştirmek için uğraşmadan bir matris geri verir."
      ]
    },
    {
      "cell_type": "code",
      "metadata": {
        "id": "4gQxua04eV9c",
        "colab_type": "code",
        "colab": {}
      },
      "source": [
        "np.empty((3,4))"
      ],
      "execution_count": null,
      "outputs": []
    },
    {
      "cell_type": "markdown",
      "metadata": {
        "id": "z9cDADTdqtWq",
        "colab_type": "text"
      },
      "source": [
        "  Tipik olarak, biz ya sıfırlar, birler, bazı diğer sabitler ya da belirli bir dağılımdan rasgele örneklenmiş sayılar ile başlatılmış matrisler isteyeceğiz. Tüm elemanları 0 ve (2,3,4) şeklindeki bir tensörü temsil eden bir tensörü aşağıdaki gibi oluşturabiliriz:"
      ]
    },
    {
      "cell_type": "code",
      "metadata": {
        "id": "rpGoRCaweXf_",
        "colab_type": "code",
        "colab": {}
      },
      "source": [
        "np.zeros((2,3,4))"
      ],
      "execution_count": null,
      "outputs": []
    },
    {
      "cell_type": "markdown",
      "metadata": {
        "id": "dm2T84ZjumjL",
        "colab_type": "text"
      },
      "source": [
        "Benzer şekilde, her elemanı 1 olan tensörleri aşağıdaki gibi oluşturabiliriz:"
      ]
    },
    {
      "cell_type": "code",
      "metadata": {
        "id": "C3sqBJocvNAe",
        "colab_type": "code",
        "colab": {}
      },
      "source": [
        "np.ones((2,3,4))"
      ],
      "execution_count": null,
      "outputs": []
    },
    {
      "cell_type": "markdown",
      "metadata": {
        "id": "CThJY9rhvxhP",
        "colab_type": "text"
      },
      "source": [
        "  Çoğunlukla, bazı olasılık dağılımlarından bir tensördeki her elemanın değerini rasgele örneklemek isteriz. Örneğin, bir sinir ağındaki parametreler olarak kullanılacak dizileri oluşturduğumuzda, parametrelerin değerlerini alışıla geldik bir şekilde rasgele oluşturacağız. Aşağıdaki kod parçasında (3,4) şekle sahip bir tensör oluşur. Tensörün her elemanı ortalaması 0 ve standart sapması 1 olan Gaussian(normal) dağılım dan rasgele örneklenmiştir."
      ]
    },
    {
      "cell_type": "code",
      "metadata": {
        "id": "SLUo6mo1eZF2",
        "colab_type": "code",
        "colab": {}
      },
      "source": [
        "np.random.normal(0, 1, size= (3,4))"
      ],
      "execution_count": null,
      "outputs": []
    },
    {
      "cell_type": "markdown",
      "metadata": {
        "id": "IPagbAL6yvpc",
        "colab_type": "text"
      },
      "source": [
        "  Sayısal değerler içeren bir Python listesi veya listeleri oluşturarak istenen tensördeki her eleman için kesin değerleri de belirtebiliriz. Burada en dıştaki liste 0 eksenine, içteki liste ise 1 eksenine karşılık gelir."
      ]
    },
    {
      "cell_type": "code",
      "metadata": {
        "id": "pPdPY3-J0mqp",
        "colab_type": "code",
        "colab": {}
      },
      "source": [
        "np.array([[2, 1, 4, 3], [1, 2, 3, 4], [4, 3, 2, 1]])"
      ],
      "execution_count": null,
      "outputs": []
    },
    {
      "cell_type": "markdown",
      "metadata": {
        "id": "_vQ5Vtpk0q88",
        "colab_type": "text"
      },
      "source": [
        "### **İşlemler**"
      ]
    },
    {
      "cell_type": "markdown",
      "metadata": {
        "id": "bSc17eDdLSQq",
        "colab_type": "text"
      },
      "source": [
        "Bu kitap yazılım mühendisliği ile ilgili değildir. İlgi alanlarımız sadece dizilerden veri okumak ve dizilerden  veri yazmakla sınırlı değildir. Biz diziler üzerinde matematiksel işlemler yapmak istiyoruz. En kolay ve en kullanışlı işlemlerden biri elementwise işlemidir. Bu bir dizinin her elemanını standart bir skaler işleme tabi tutar. Girdi olarak iki dizi alan fonksiyonlar için elementwise işlemi iki dizideki her bir karşılık gelen eleman çiftine bazı standart ikili operatörler uygulanır. Skalerden skalere giden her bir fonksiyondan elementwise fonksiyon oluşturabiliriz.\n",
        "\n",
        "Matematik notasyonu olarak bir girdili skaler operatorü $f:R→R$ şeklinde tanımlarız. Bu reel sayılardan reel sayılara giden bir fonksiyondur. Bunun aksine iki girdili ve bir çıktıya sahip binary skaler operatörü $f:R,R→R$ şeklinde tanımlarız. Aynı boyutlu $u$ ve $v$ vektörleri verilsin. $u_i$ ve $v_i$, $u$ ve $v$ vektörlerinin $i.$ elemanı olmak üzere her $i$ için $f(u_i,v_i)→c_i$ olacak şekilde $F(u,v)=c$ vektörünü oluştururuz. Burada skaler bir fonksiyonu elementwise vektör işlemine genişleterek $F:R^d,R^d→R^d$ vektör değerli operatörünü tanımladık.\n",
        "Standart aritmatik işlemler(+,-,*,/ ve **) herhangi özdeş boyutlu tensörler için elementwise işlemlerine genişletilmiştir. Aynı boyutlu iki vektör üzerinde elementwise işlemini uygulayabiliriz. Aşağıdaki örnekte, 5 elementwise işleminin sonucunu virgül kullanarak ayırdık."
      ]
    },
    {
      "cell_type": "code",
      "metadata": {
        "id": "1np9LaI8WwHk",
        "colab_type": "code",
        "colab": {}
      },
      "source": [
        "x = np.array([1, 2, 4, 8])\n",
        "y = np.array([2, 2, 2, 2])\n",
        "\n",
        "x + y, x - y, x * y, x / y, x ** y"
      ],
      "execution_count": null,
      "outputs": []
    },
    {
      "cell_type": "markdown",
      "metadata": {
        "id": "5ECDFBgIXqIw",
        "colab_type": "text"
      },
      "source": [
        "Elementwise olarak daha birçok işlem uygulanabilir. Örneğin exponansiyel alma işlemi."
      ]
    },
    {
      "cell_type": "code",
      "metadata": {
        "id": "cmhWZ_OlYJ1k",
        "colab_type": "code",
        "colab": {}
      },
      "source": [
        "np.exp(x)"
      ],
      "execution_count": null,
      "outputs": []
    },
    {
      "cell_type": "markdown",
      "metadata": {
        "id": "dgnAW1QgYTks",
        "colab_type": "text"
      },
      "source": [
        "Elemetwise hesaplamalarına ek olarak, vektör nokta çarpımını ve matris çarpımını içeren lineer cebir işlemlerinide ayrıca uygulayabiliriz. Lineer cebirin önemli kısımlarını Bölüm 2.3'de açıklayacağız.\n",
        "Ayrıca birden fazla tensörü, daha büyük bir tensör oluşturmak için onları uçtan uca ekleyerek birleştirebiliriz. Sadece tensörlerin listesini vermemiz ve sisteme hangi eksende birleştirileceğini söylememiz gereklidir. Aşağıdaki örnek satır ve sutun boyunca iki matris birleştirdiğimizde neyin meydana geldiğini gösterir. İlk çıktı tensörünün eksen-0 uzunluğu(6) iki girdi tensörlerinin eksen-0 uzunluklarının toplamı(3 + 3) olduğunu, ikinci çıktı tensörünün eksen-1 uzunluğu(8) iki girdi tensörlerinin eksen-1 uzunlukları toplamı(4 + 4) olduğunu görürüz."
      ]
    },
    {
      "cell_type": "code",
      "metadata": {
        "id": "BfES6UEnkpaL",
        "colab_type": "code",
        "colab": {}
      },
      "source": [
        "X = np.arange(12).reshape(3,4)\n",
        "Y = np.array([[2, 1, 4, 3],[1, 2, 3, 4],[4, 3, 2, 1]])\n",
        "\n",
        "np.concatenate([X, Y], axis=0), np.concatenate([X, Y], axis=1)"
      ],
      "execution_count": null,
      "outputs": []
    },
    {
      "cell_type": "markdown",
      "metadata": {
        "id": "P2ixs9GUlhUf",
        "colab_type": "text"
      },
      "source": [
        "Bazen mantıksal ifadeler aracılığıyla ikili tensör oluşturmak isteriz. Örnek olarak X == Y 'yi alalım. Her konum için, X ve Y bu konumda eşitse yeni tensördeki ilgili giriş 1 değerini alır. Yani X == Y mantıksal ifadesi bu konumda true olur. Yoksa bu konumda 0 değerini alır."
      ]
    },
    {
      "cell_type": "code",
      "metadata": {
        "id": "oCybke2IzolM",
        "colab_type": "code",
        "colab": {}
      },
      "source": [
        "X == Y"
      ],
      "execution_count": null,
      "outputs": []
    },
    {
      "cell_type": "markdown",
      "metadata": {
        "id": "tHEIBDExz0jD",
        "colab_type": "text"
      },
      "source": [
        "Tensördeki bütün elemanları toplamak bir elemanlı bir tensör verir."
      ]
    },
    {
      "cell_type": "code",
      "metadata": {
        "id": "fvkgTCOy0Aew",
        "colab_type": "code",
        "colab": {}
      },
      "source": [
        "X.sum()"
      ],
      "execution_count": null,
      "outputs": []
    },
    {
      "cell_type": "code",
      "metadata": {
        "id": "RqUjEboh0B-q",
        "colab_type": "code",
        "colab": {}
      },
      "source": [
        ""
      ],
      "execution_count": null,
      "outputs": []
    }
  ]
}